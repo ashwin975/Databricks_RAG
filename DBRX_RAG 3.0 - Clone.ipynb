{
 "cells": [
  {
   "cell_type": "code",
   "execution_count": 0,
   "metadata": {
    "application/vnd.databricks.v1+cell": {
     "cellMetadata": {
      "byteLimit": 2048000,
      "rowLimit": 10000
     },
     "inputWidgets": {},
     "nuid": "843109cf-ebe5-4f72-aeba-fd4b3b65b363",
     "showTitle": false,
     "title": ""
    }
   },
   "outputs": [],
   "source": [
    "%pip install typing-inspect==0.8.0 typing_extensions==4.5.0 langchain-community mlflow==2.9.0 lxml==4.9.3 transformers==4.30.2 langchain==0.0.344 databricks-vectorsearch\n",
    "dbutils.library.restartPython()"
   ]
  },
  {
   "cell_type": "code",
   "execution_count": 0,
   "metadata": {
    "application/vnd.databricks.v1+cell": {
     "cellMetadata": {
      "byteLimit": 2048000,
      "rowLimit": 10000
     },
     "inputWidgets": {},
     "nuid": "2d604d66-12e6-4663-9ef6-5d823968b964",
     "showTitle": false,
     "title": ""
    }
   },
   "outputs": [],
   "source": [
    "%pip install transformers==4.30.2 \"unstructured[pdf,docx]==0.10.30\" langchain==0.1.5 llama-index==0.9.3 databricks-vectorsearch==0.22 pydantic==1.10.9 mlflow==2.10.1\n",
    "#dbutils.library.restartPython()"
   ]
  },
  {
   "cell_type": "code",
   "execution_count": 0,
   "metadata": {
    "application/vnd.databricks.v1+cell": {
     "cellMetadata": {
      "byteLimit": 2048000,
      "rowLimit": 10000
     },
     "inputWidgets": {},
     "nuid": "bc21ea3d-22e4-41cf-a890-2599598336a5",
     "showTitle": false,
     "title": ""
    }
   },
   "outputs": [],
   "source": [
    "%pip install mlflow==2.10.1 lxml==4.9.3 langchain==0.1.5 databricks-vectorsearch==0.22 cloudpickle==2.2.1 databricks-sdk==0.18.0 cloudpickle==2.2.1 pydantic==2.5.2\n",
    "%pip install pip mlflow[databricks]==2.10.1\n",
    "#dbutils.library.restartPython()"
   ]
  },
  {
   "cell_type": "code",
   "execution_count": 0,
   "metadata": {
    "application/vnd.databricks.v1+cell": {
     "cellMetadata": {
      "byteLimit": 2048000,
      "rowLimit": 10000
     },
     "inputWidgets": {},
     "nuid": "be40f93f-7ff8-48d4-96ac-b6a762dd7f5f",
     "showTitle": false,
     "title": ""
    }
   },
   "outputs": [],
   "source": [
    "%run /Workspace/Users/ashwinsingaram579@gmail.com/llm-rag-chatbot/_resources/00-init $reset_all_data=false"
   ]
  },
  {
   "cell_type": "code",
   "execution_count": 0,
   "metadata": {
    "application/vnd.databricks.v1+cell": {
     "cellMetadata": {
      "byteLimit": 2048000,
      "rowLimit": 10000
     },
     "inputWidgets": {},
     "nuid": "f8298540-4690-4979-8a76-80a9625dcd3e",
     "showTitle": false,
     "title": ""
    }
   },
   "outputs": [],
   "source": [
    "%run /Workspace/Users/ashwinsingaram579@gmail.com/llm-rag-chatbot/_resources/00-init-advanced $reset_all_data=false"
   ]
  },
  {
   "cell_type": "code",
   "execution_count": 0,
   "metadata": {
    "application/vnd.databricks.v1+cell": {
     "cellMetadata": {
      "byteLimit": 2048000,
      "implicitDf": true,
      "rowLimit": 10000
     },
     "inputWidgets": {},
     "nuid": "a7eac43a-9eae-43ea-a3df-e775515deae3",
     "showTitle": false,
     "title": ""
    }
   },
   "outputs": [
    {
     "output_type": "display_data",
     "data": {
      "text/html": [
       "<style scoped>\n",
       "  .table-result-container {\n",
       "    max-height: 300px;\n",
       "    overflow: auto;\n",
       "  }\n",
       "  table, th, td {\n",
       "    border: 1px solid black;\n",
       "    border-collapse: collapse;\n",
       "  }\n",
       "  th, td {\n",
       "    padding: 5px;\n",
       "  }\n",
       "  th {\n",
       "    text-align: left;\n",
       "  }\n",
       "</style><div class='table-result-container'><table class='table-result'><thead style='background-color: white'><tr></tr></thead><tbody></tbody></table></div>"
      ]
     },
     "metadata": {
      "application/vnd.databricks.v1+output": {
       "addedWidgets": {},
       "aggData": [],
       "aggError": "",
       "aggOverflow": false,
       "aggSchema": [],
       "aggSeriesLimitReached": false,
       "aggType": "",
       "arguments": {},
       "columnCustomDisplayInfos": {},
       "data": [],
       "datasetInfos": [],
       "dbfsResultPath": null,
       "isJsonSchema": true,
       "metadata": {
        "dataframeName": null
       },
       "overflow": false,
       "plotOptions": {
        "customPlotOptions": {},
        "displayType": "table",
        "pivotAggregation": null,
        "pivotColumns": null,
        "xColumns": null,
        "yColumns": null
       },
       "removedWidgets": [],
       "schema": [],
       "type": "table"
      }
     },
     "output_type": "display_data"
    }
   ],
   "source": [
    "%sql\n",
    "USE CATALOG main"
   ]
  },
  {
   "cell_type": "code",
   "execution_count": 0,
   "metadata": {
    "application/vnd.databricks.v1+cell": {
     "cellMetadata": {
      "byteLimit": 2048000,
      "implicitDf": true,
      "rowLimit": 10000
     },
     "inputWidgets": {},
     "nuid": "2c0518fc-a477-4651-9e8c-abe7bb951285",
     "showTitle": false,
     "title": ""
    }
   },
   "outputs": [
    {
     "output_type": "display_data",
     "data": {
      "text/html": [
       "<style scoped>\n",
       "  .table-result-container {\n",
       "    max-height: 300px;\n",
       "    overflow: auto;\n",
       "  }\n",
       "  table, th, td {\n",
       "    border: 1px solid black;\n",
       "    border-collapse: collapse;\n",
       "  }\n",
       "  th, td {\n",
       "    padding: 5px;\n",
       "  }\n",
       "  th {\n",
       "    text-align: left;\n",
       "  }\n",
       "</style><div class='table-result-container'><table class='table-result'><thead style='background-color: white'><tr></tr></thead><tbody></tbody></table></div>"
      ]
     },
     "metadata": {
      "application/vnd.databricks.v1+output": {
       "addedWidgets": {},
       "aggData": [],
       "aggError": "",
       "aggOverflow": false,
       "aggSchema": [],
       "aggSeriesLimitReached": false,
       "aggType": "",
       "arguments": {},
       "columnCustomDisplayInfos": {},
       "data": [],
       "datasetInfos": [],
       "dbfsResultPath": null,
       "isJsonSchema": true,
       "metadata": {
        "dataframeName": null
       },
       "overflow": false,
       "plotOptions": {
        "customPlotOptions": {},
        "displayType": "table",
        "pivotAggregation": null,
        "pivotColumns": null,
        "xColumns": null,
        "yColumns": null
       },
       "removedWidgets": [],
       "schema": [],
       "type": "table"
      }
     },
     "output_type": "display_data"
    }
   ],
   "source": [
    "%sql\n",
    "CREATE VOLUME IF NOT EXISTS main.default.technical_docs;"
   ]
  },
  {
   "cell_type": "code",
   "execution_count": 0,
   "metadata": {
    "application/vnd.databricks.v1+cell": {
     "cellMetadata": {
      "byteLimit": 2048000,
      "rowLimit": 10000
     },
     "inputWidgets": {},
     "nuid": "61079b7e-3395-43d4-a88f-9e7626a326c9",
     "showTitle": false,
     "title": ""
    }
   },
   "outputs": [],
   "source": [
    "catalog = 'main'\n",
    "db = 'default'"
   ]
  },
  {
   "cell_type": "code",
   "execution_count": 0,
   "metadata": {
    "application/vnd.databricks.v1+cell": {
     "cellMetadata": {
      "byteLimit": 2048000,
      "rowLimit": 10000
     },
     "inputWidgets": {},
     "nuid": "292b05c7-5629-4336-b2b8-0e3e7e567abe",
     "showTitle": false,
     "title": ""
    }
   },
   "outputs": [
    {
     "output_type": "display_data",
     "data": {
      "text/html": [
       "<style scoped>\n",
       "  .table-result-container {\n",
       "    max-height: 300px;\n",
       "    overflow: auto;\n",
       "  }\n",
       "  table, th, td {\n",
       "    border: 1px solid black;\n",
       "    border-collapse: collapse;\n",
       "  }\n",
       "  th, td {\n",
       "    padding: 5px;\n",
       "  }\n",
       "  th {\n",
       "    text-align: left;\n",
       "  }\n",
       "</style><div class='table-result-container'><table class='table-result'><thead style='background-color: white'><tr><th>path</th><th>name</th><th>size</th><th>modificationTime</th></tr></thead><tbody><tr><td>dbfs:/Volumes/main/default/technical_docs/hotrunnerproducthandbook_19_4-external.pdf</td><td>hotrunnerproducthandbook_19_4-external.pdf</td><td>24559011</td><td>1714612927000</td></tr><tr><td>dbfs:/Volumes/main/default/technical_docs/hr_ultrashot_v1-1_eng.pdf</td><td>hr_ultrashot_v1-1_eng.pdf</td><td>9338820</td><td>1714612925000</td></tr><tr><td>dbfs:/Volumes/main/default/technical_docs/hr_ultrasynch_v2-2_eng_202103_5007549.pdf</td><td>hr_ultrasynch_v2-2_eng_202103_5007549.pdf</td><td>6657764</td><td>1714612924000</td></tr><tr><td>dbfs:/Volumes/main/default/technical_docs/training-course-overview-2024.pdf</td><td>training-course-overview-2024.pdf</td><td>1159371</td><td>1714612922000</td></tr></tbody></table></div>"
      ]
     },
     "metadata": {
      "application/vnd.databricks.v1+output": {
       "addedWidgets": {},
       "aggData": [],
       "aggError": "",
       "aggOverflow": false,
       "aggSchema": [],
       "aggSeriesLimitReached": false,
       "aggType": "",
       "arguments": {},
       "columnCustomDisplayInfos": {},
       "data": [
        [
         "dbfs:/Volumes/main/default/technical_docs/hotrunnerproducthandbook_19_4-external.pdf",
         "hotrunnerproducthandbook_19_4-external.pdf",
         24559011,
         1714612927000
        ],
        [
         "dbfs:/Volumes/main/default/technical_docs/hr_ultrashot_v1-1_eng.pdf",
         "hr_ultrashot_v1-1_eng.pdf",
         9338820,
         1714612925000
        ],
        [
         "dbfs:/Volumes/main/default/technical_docs/hr_ultrasynch_v2-2_eng_202103_5007549.pdf",
         "hr_ultrasynch_v2-2_eng_202103_5007549.pdf",
         6657764,
         1714612924000
        ],
        [
         "dbfs:/Volumes/main/default/technical_docs/training-course-overview-2024.pdf",
         "training-course-overview-2024.pdf",
         1159371,
         1714612922000
        ]
       ],
       "datasetInfos": [],
       "dbfsResultPath": null,
       "isJsonSchema": true,
       "metadata": {},
       "overflow": false,
       "plotOptions": {
        "customPlotOptions": {},
        "displayType": "table",
        "pivotAggregation": null,
        "pivotColumns": null,
        "xColumns": null,
        "yColumns": null
       },
       "removedWidgets": [],
       "schema": [
        {
         "metadata": "{}",
         "name": "path",
         "type": "\"string\""
        },
        {
         "metadata": "{}",
         "name": "name",
         "type": "\"string\""
        },
        {
         "metadata": "{}",
         "name": "size",
         "type": "\"long\""
        },
        {
         "metadata": "{}",
         "name": "modificationTime",
         "type": "\"long\""
        }
       ],
       "type": "table"
      }
     },
     "output_type": "display_data"
    }
   ],
   "source": [
    "# List our raw PDF docs\n",
    "volume_folder = \"/Volumes/main/default/technical_docs\"\n",
    "# Let's upload some pdf files to our volume as example. Change this with your own PDFs / docs.\n",
    "#upload_pdfs_to_volume(volume_folder+\"/databricks-pdf\")\n",
    "\n",
    "display(dbutils.fs.ls(volume_folder))"
   ]
  },
  {
   "cell_type": "code",
   "execution_count": 0,
   "metadata": {
    "application/vnd.databricks.v1+cell": {
     "cellMetadata": {
      "byteLimit": 2048000,
      "rowLimit": 10000
     },
     "inputWidgets": {},
     "nuid": "55b29102-6fa2-4625-9419-1ea9662a5136",
     "showTitle": false,
     "title": ""
    }
   },
   "outputs": [],
   "source": [
    "df = (spark.readStream\n",
    "        .format('cloudFiles')\n",
    "        .option('cloudFiles.format', 'BINARYFILE')\n",
    "        .option(\"pathGlobFilter\", \"*.pdf\")\n",
    "        .load('dbfs:'+volume_folder))\n",
    "\n",
    "# Write the data as a Delta table\n",
    "(df.writeStream\n",
    "  .trigger(availableNow=True)\n",
    "  .option(\"checkpointLocation\", f'dbfs:{volume_folder}/checkpoints/raw_docs')\n",
    "  .table('pdf_raw').awaitTermination())"
   ]
  },
  {
   "cell_type": "code",
   "execution_count": 0,
   "metadata": {
    "application/vnd.databricks.v1+cell": {
     "cellMetadata": {
      "byteLimit": 2048000,
      "implicitDf": true,
      "rowLimit": 10000
     },
     "inputWidgets": {},
     "nuid": "8f3fae2f-b99f-4e78-acf1-670b3b1d0507",
     "showTitle": false,
     "title": ""
    }
   },
   "outputs": [
    {
     "output_type": "display_data",
     "data": {
      "text/html": [
       "<style scoped>\n",
       "  .table-result-container {\n",
       "    max-height: 300px;\n",
       "    overflow: auto;\n",
       "  }\n",
       "  table, th, td {\n",
       "    border: 1px solid black;\n",
       "    border-collapse: collapse;\n",
       "  }\n",
       "  th, td {\n",
       "    padding: 5px;\n",
       "  }\n",
       "  th {\n",
       "    text-align: left;\n",
       "  }\n",
       "</style><div class='table-result-container'><table class='table-result'><thead style='background-color: white'><tr><th>path</th><th>modificationTime</th><th>length</th><th>content</th></tr></thead><tbody><tr><td>dbfs:/Volumes/main/default/technical_docs/hotrunnerproducthandbook_19_4-external.pdf</td><td>2024-05-02T01:22:07Z</td><td>24559011</td><td>JVBERi0xLjcNJeLjz9MNCjQ3Mzk2IDAgb2JqDTw8L0xpbmVhcml6ZWQgMS9MIDI0NTU5MDExL08gNDczOTkvRSAxMDE5MjAwL04gMjM4L1QgMjM2MTA5NjgvSCBbIDk0NCA3MTg0XT4+DWVuZG9iag0gDQp4cmVmDQo0NzM5NiA= (truncated)</td></tr><tr><td>dbfs:/Volumes/main/default/technical_docs/hr_ultrashot_v1-1_eng.pdf</td><td>2024-05-02T01:22:05Z</td><td>9338820</td><td>JVBERi0xLjYNJeLjz9MNCjM1NDkgMCBvYmoNPDwvTGluZWFyaXplZCAxL0wgOTMzODgyMC9PIDM1NTEvRSAxNzA2MjIvTiA3OC9UIDkzMzcyMzgvSCBbIDc3NyAxNzQ4XT4+DWVuZG9iag0gICAgICAgDQozNTY0IDAgb2JqDTw= (truncated)</td></tr><tr><td>dbfs:/Volumes/main/default/technical_docs/hr_ultrasynch_v2-2_eng_202103_5007549.pdf</td><td>2024-05-02T01:22:04Z</td><td>6657764</td><td>JVBERi0xLjYNJeLjz9MNCjg4MDEgMCBvYmoNPDwvTGluZWFyaXplZCAxL0wgNjY1Nzc2NC9PIDg4MDQvRSAxNzUwMTQvTiAxNzYvVCA2NjU0Nzk2L0ggWyAxMDIwIDI3NDVdPj4NZW5kb2JqDSAgICAgDQo4ODE3IDAgb2JqDTw= (truncated)</td></tr><tr><td>dbfs:/Volumes/main/default/technical_docs/training-course-overview-2024.pdf</td><td>2024-05-02T01:22:02Z</td><td>1159371</td><td>JVBERi0xLjcNJeLjz9MNCjQxMSAwIG9iag08PC9MaW5lYXJpemVkIDEvTCAxMTU5MzcxL08gNDE1L0UgMzM2NzM4L04gMTYvVCAxMTUxMDMwL0ggWyAxMTE2IDg1M10+Pg1lbmRvYmoNICAgICAgICAgDQp4cmVmDQo0MTEgNDE= (truncated)</td></tr></tbody></table></div>"
      ]
     },
     "metadata": {
      "application/vnd.databricks.v1+output": {
       "addedWidgets": {},
       "aggData": [],
       "aggError": "",
       "aggOverflow": false,
       "aggSchema": [],
       "aggSeriesLimitReached": false,
       "aggType": "",
       "arguments": {},
       "columnCustomDisplayInfos": {},
       "data": [
        [
         "dbfs:/Volumes/main/default/technical_docs/hotrunnerproducthandbook_19_4-external.pdf",
         "2024-05-02T01:22:07Z",
         24559011,
         "JVBERi0xLjcNJeLjz9MNCjQ3Mzk2IDAgb2JqDTw8L0xpbmVhcml6ZWQgMS9MIDI0NTU5MDExL08gNDczOTkvRSAxMDE5MjAwL04gMjM4L1QgMjM2MTA5NjgvSCBbIDk0NCA3MTg0XT4+DWVuZG9iag0gDQp4cmVmDQo0NzM5NiA= (truncated)"
        ],
        [
         "dbfs:/Volumes/main/default/technical_docs/hr_ultrashot_v1-1_eng.pdf",
         "2024-05-02T01:22:05Z",
         9338820,
         "JVBERi0xLjYNJeLjz9MNCjM1NDkgMCBvYmoNPDwvTGluZWFyaXplZCAxL0wgOTMzODgyMC9PIDM1NTEvRSAxNzA2MjIvTiA3OC9UIDkzMzcyMzgvSCBbIDc3NyAxNzQ4XT4+DWVuZG9iag0gICAgICAgDQozNTY0IDAgb2JqDTw= (truncated)"
        ],
        [
         "dbfs:/Volumes/main/default/technical_docs/hr_ultrasynch_v2-2_eng_202103_5007549.pdf",
         "2024-05-02T01:22:04Z",
         6657764,
         "JVBERi0xLjYNJeLjz9MNCjg4MDEgMCBvYmoNPDwvTGluZWFyaXplZCAxL0wgNjY1Nzc2NC9PIDg4MDQvRSAxNzUwMTQvTiAxNzYvVCA2NjU0Nzk2L0ggWyAxMDIwIDI3NDVdPj4NZW5kb2JqDSAgICAgDQo4ODE3IDAgb2JqDTw= (truncated)"
        ],
        [
         "dbfs:/Volumes/main/default/technical_docs/training-course-overview-2024.pdf",
         "2024-05-02T01:22:02Z",
         1159371,
         "JVBERi0xLjcNJeLjz9MNCjQxMSAwIG9iag08PC9MaW5lYXJpemVkIDEvTCAxMTU5MzcxL08gNDE1L0UgMzM2NzM4L04gMTYvVCAxMTUxMDMwL0ggWyAxMTE2IDg1M10+Pg1lbmRvYmoNICAgICAgICAgDQp4cmVmDQo0MTEgNDE= (truncated)"
        ]
       ],
       "datasetInfos": [],
       "dbfsResultPath": null,
       "isJsonSchema": true,
       "metadata": {
        "dataframeName": "_sqldf",
        "executionCount": 131
       },
       "overflow": false,
       "plotOptions": {
        "customPlotOptions": {},
        "displayType": "table",
        "pivotAggregation": null,
        "pivotColumns": null,
        "xColumns": null,
        "yColumns": null
       },
       "removedWidgets": [],
       "schema": [
        {
         "metadata": "{}",
         "name": "path",
         "type": "\"string\""
        },
        {
         "metadata": "{}",
         "name": "modificationTime",
         "type": "\"timestamp\""
        },
        {
         "metadata": "{}",
         "name": "length",
         "type": "\"long\""
        },
        {
         "metadata": "{\"spark.contentAnnotation.mimeType\":\"application/pdf\"}",
         "name": "content",
         "type": "\"binary\""
        }
       ],
       "type": "table"
      }
     },
     "output_type": "display_data"
    }
   ],
   "source": [
    "%sql SELECT * FROM main.default.pdf_raw"
   ]
  },
  {
   "cell_type": "code",
   "execution_count": 0,
   "metadata": {
    "application/vnd.databricks.v1+cell": {
     "cellMetadata": {
      "byteLimit": 2048000,
      "rowLimit": 10000
     },
     "inputWidgets": {},
     "nuid": "68c84e10-5772-437d-a2d9-3ae5ea2dbb3a",
     "showTitle": false,
     "title": ""
    }
   },
   "outputs": [
    {
     "output_type": "stream",
     "name": "stdout",
     "output_type": "stream",
     "text": [
      "OCR libraries installed\n"
     ]
    }
   ],
   "source": [
    "# For production use-case, install the libraries at your cluster level with an init script instead. \n",
    "install_ocr_on_nodes()"
   ]
  },
  {
   "cell_type": "code",
   "execution_count": 0,
   "metadata": {
    "application/vnd.databricks.v1+cell": {
     "cellMetadata": {
      "byteLimit": 2048000,
      "rowLimit": 10000
     },
     "inputWidgets": {},
     "nuid": "32b6417f-6524-4851-8cc4-497faafa6a53",
     "showTitle": false,
     "title": ""
    }
   },
   "outputs": [],
   "source": [
    "from unstructured.partition.auto import partition\n",
    "import re\n",
    "\n",
    "def extract_doc_text(x : bytes) -> str:\n",
    "  # Read files and extract the values with unstructured\n",
    "  sections = partition(file=io.BytesIO(x))\n",
    "  def clean_section(txt):\n",
    "    txt = re.sub(r'\\n', '', txt)\n",
    "    return re.sub(r' ?\\.', '.', txt)\n",
    "  # Default split is by section of document, concatenate them all together because we want to split by sentence instead.\n",
    "  return \"\\n\".join([clean_section(s.text) for s in sections]) "
   ]
  },
  {
   "cell_type": "code",
   "execution_count": 0,
   "metadata": {
    "application/vnd.databricks.v1+cell": {
     "cellMetadata": {
      "byteLimit": 2048000,
      "rowLimit": 10000
     },
     "inputWidgets": {},
     "nuid": "49f941d4-fe58-4c1c-934e-a2169fa9f7d4",
     "showTitle": false,
     "title": ""
    }
   },
   "outputs": [],
   "source": [
    "from llama_index.langchain_helpers.text_splitter import SentenceSplitter\n",
    "from llama_index import Document, set_global_tokenizer\n",
    "from transformers import AutoTokenizer\n",
    "from typing import Iterator\n",
    "\n",
    "# Reduce the arrow batch size as our PDF can be big in memory\n",
    "spark.conf.set(\"spark.sql.execution.arrow.maxRecordsPerBatch\", 10)\n",
    "\n",
    "@pandas_udf(\"array<string>\")\n",
    "def read_as_chunk(batch_iter: Iterator[pd.Series]) -> Iterator[pd.Series]:\n",
    "    #set llama2 as tokenizer to match our model size (will stay below BGE 1024 limit)\n",
    "    set_global_tokenizer(\n",
    "      AutoTokenizer.from_pretrained(\"hf-internal-testing/llama-tokenizer\")\n",
    "    )\n",
    "    #Sentence splitter from llama_index to split on sentences\n",
    "    splitter = SentenceSplitter(chunk_size=500, chunk_overlap=50)\n",
    "    def extract_and_split(b):\n",
    "      txt = extract_doc_text(b)\n",
    "      nodes = splitter.get_nodes_from_documents([Document(text=txt)])\n",
    "      return [n.text for n in nodes]\n",
    "\n",
    "    for x in batch_iter:\n",
    "        yield x.apply(extract_and_split)"
   ]
  },
  {
   "cell_type": "code",
   "execution_count": 0,
   "metadata": {
    "application/vnd.databricks.v1+cell": {
     "cellMetadata": {
      "byteLimit": 2048000,
      "rowLimit": 10000
     },
     "inputWidgets": {},
     "nuid": "55d6f0a3-c9c1-46ea-a5f0-d17d9ffaad86",
     "showTitle": false,
     "title": ""
    }
   },
   "outputs": [],
   "source": [
    "from mlflow.deployments import get_deploy_client\n",
    "\n",
    "# bge-large-en Foundation models are available using the /serving-endpoints/databricks-bge-large-en/invocations api. \n",
    "deploy_client = get_deploy_client(\"databricks\")\n",
    "\n",
    "## NOTE: if you change your embedding model here, make sure you change it in the query step too\n",
    "embeddings = deploy_client.predict(endpoint=\"databricks-bge-large-en\", inputs={\"input\": [\"What is Apache Spark?\"]})\n",
    "pprint(embeddings)"
   ]
  },
  {
   "cell_type": "code",
   "execution_count": 0,
   "metadata": {
    "application/vnd.databricks.v1+cell": {
     "cellMetadata": {
      "byteLimit": 2048000,
      "implicitDf": true,
      "rowLimit": 10000
     },
     "inputWidgets": {},
     "nuid": "88a3725e-ea1d-4e7c-bcb9-2c186cb23a42",
     "showTitle": false,
     "title": ""
    }
   },
   "outputs": [
    {
     "output_type": "display_data",
     "data": {
      "text/html": [
       "<style scoped>\n",
       "  .table-result-container {\n",
       "    max-height: 300px;\n",
       "    overflow: auto;\n",
       "  }\n",
       "  table, th, td {\n",
       "    border: 1px solid black;\n",
       "    border-collapse: collapse;\n",
       "  }\n",
       "  th, td {\n",
       "    padding: 5px;\n",
       "  }\n",
       "  th {\n",
       "    text-align: left;\n",
       "  }\n",
       "</style><div class='table-result-container'><table class='table-result'><thead style='background-color: white'><tr></tr></thead><tbody></tbody></table></div>"
      ]
     },
     "metadata": {
      "application/vnd.databricks.v1+output": {
       "addedWidgets": {},
       "aggData": [],
       "aggError": "",
       "aggOverflow": false,
       "aggSchema": [],
       "aggSeriesLimitReached": false,
       "aggType": "",
       "arguments": {},
       "columnCustomDisplayInfos": {},
       "data": [],
       "datasetInfos": [],
       "dbfsResultPath": null,
       "isJsonSchema": true,
       "metadata": {
        "dataframeName": null
       },
       "overflow": false,
       "plotOptions": {
        "customPlotOptions": {},
        "displayType": "table",
        "pivotAggregation": null,
        "pivotColumns": null,
        "xColumns": null,
        "yColumns": null
       },
       "removedWidgets": [],
       "schema": [],
       "type": "table"
      }
     },
     "output_type": "display_data"
    }
   ],
   "source": [
    "%sql\n",
    "--Note that we need to enable Change Data Feed on the table to create the index\n",
    "CREATE TABLE IF NOT EXISTS databricks_pdf_documentation (\n",
    "  id BIGINT GENERATED BY DEFAULT AS IDENTITY,\n",
    "  url STRING,\n",
    "  content STRING,\n",
    "  embedding ARRAY <FLOAT>\n",
    ") TBLPROPERTIES (delta.enableChangeDataFeed = true); "
   ]
  },
  {
   "cell_type": "code",
   "execution_count": 0,
   "metadata": {
    "application/vnd.databricks.v1+cell": {
     "cellMetadata": {
      "byteLimit": 2048000,
      "rowLimit": 10000
     },
     "inputWidgets": {},
     "nuid": "2bb8c89f-3bb7-4fcd-b0de-34de31b9ba91",
     "showTitle": false,
     "title": ""
    }
   },
   "outputs": [],
   "source": [
    "@pandas_udf(\"array<float>\")\n",
    "def get_embedding(contents: pd.Series) -> pd.Series:\n",
    "    import mlflow.deployments\n",
    "    deploy_client = mlflow.deployments.get_deploy_client(\"databricks\")\n",
    "    def get_embeddings(batch):\n",
    "        #Note: this will fail if an exception is thrown during embedding creation (add try/except if needed) \n",
    "        response = deploy_client.predict(endpoint=\"databricks-bge-large-en\", inputs={\"input\": batch})\n",
    "        return [e['embedding'] for e in response.data]\n",
    "\n",
    "    # Splitting the contents into batches of 150 items each, since the embedding model takes at most 150 inputs per request.\n",
    "    max_batch_size = 150\n",
    "    batches = [contents.iloc[i:i + max_batch_size] for i in range(0, len(contents), max_batch_size)]\n",
    "\n",
    "    # Process each batch and collect the results\n",
    "    all_embeddings = []\n",
    "    for batch in batches:\n",
    "        all_embeddings += get_embeddings(batch.tolist())\n",
    "\n",
    "    return pd.Series(all_embeddings)"
   ]
  },
  {
   "cell_type": "code",
   "execution_count": 0,
   "metadata": {
    "application/vnd.databricks.v1+cell": {
     "cellMetadata": {
      "byteLimit": 2048000,
      "rowLimit": 10000
     },
     "inputWidgets": {},
     "nuid": "431b372a-2963-41ae-a91c-a75975d1833a",
     "showTitle": false,
     "title": ""
    }
   },
   "outputs": [],
   "source": [
    "import io\n",
    "\n",
    "(spark.readStream.table('pdf_raw')\n",
    "      .withColumn(\"content\", F.explode(read_as_chunk(\"content\")))\n",
    "      .withColumn(\"embedding\", get_embedding(\"content\"))\n",
    "      .selectExpr('path as url', 'content', 'embedding')\n",
    "  .writeStream\n",
    "    .trigger(availableNow=True)\n",
    "    .option(\"checkpointLocation\", f'dbfs:{volume_folder}/checkpoints/pdf_chunk')\n",
    "    .table('mfg_pdfs').awaitTermination())\n",
    "\n",
    "#Let's also add our documentation web page from the simple demo (make sure you run the quickstart demo first)\n",
    "if table_exists(f'{catalog}.{db}.databricks_documentation'):\n",
    "  (spark.readStream.option(\"skipChangeCommits\", \"true\").table('databricks_documentation') #skip changes for more stable demo\n",
    "      .withColumn('embedding', get_embedding(\"content\"))\n",
    "      .select('url', 'content', 'embedding')\n",
    "  .writeStream\n",
    "    .trigger(availableNow=True)\n",
    "    .option(\"checkpointLocation\", f'dbfs:{volume_folder}/checkpoints/docs_chunks')\n",
    "    .table('mfg_pdfs').awaitTermination())"
   ]
  },
  {
   "cell_type": "code",
   "execution_count": 0,
   "metadata": {
    "application/vnd.databricks.v1+cell": {
     "cellMetadata": {
      "byteLimit": 2048000,
      "implicitDf": true,
      "rowLimit": 10000
     },
     "inputWidgets": {},
     "nuid": "e92838ff-d24b-44e9-bab2-108ae70760f4",
     "showTitle": false,
     "title": ""
    }
   },
   "outputs": [],
   "source": [
    "%sql\n",
    "SELECT * FROM mfg_pdfs WHERE url like '%.pdf'"
   ]
  },
  {
   "cell_type": "code",
   "execution_count": 0,
   "metadata": {
    "application/vnd.databricks.v1+cell": {
     "cellMetadata": {
      "byteLimit": 2048000,
      "rowLimit": 10000
     },
     "inputWidgets": {},
     "nuid": "d27e7b33-c68c-4e8f-8ef4-1d1a5c583bf6",
     "showTitle": false,
     "title": ""
    }
   },
   "outputs": [],
   "source": [
    "from databricks.vector_search.client import VectorSearchClient\n",
    "\n",
    "vsc = VectorSearchClient(disable_notice=True)\n",
    "vector_search_endpoint_name = \"vector-search-demo-endpoint_115\"\n",
    "vsc.create_endpoint(\n",
    "    name=vector_search_endpoint_name,\n",
    "    endpoint_type=\"STANDARD\"\n",
    ")"
   ]
  },
  {
   "cell_type": "code",
   "execution_count": 0,
   "metadata": {
    "application/vnd.databricks.v1+cell": {
     "cellMetadata": {
      "byteLimit": 2048000,
      "rowLimit": 10000
     },
     "inputWidgets": {},
     "nuid": "3b855135-96c5-4aad-a8e9-625ceafaa6a8",
     "showTitle": false,
     "title": ""
    }
   },
   "outputs": [
    {
     "output_type": "stream",
     "name": "stdout",
     "output_type": "stream",
     "text": [
      "[['dbfs:/Volumes/main/default/technical_docs/training-course-overview-2024.pdf',\n  '5\\n'\n  '2\\n'\n  '3\\n'\n  '5\\n'\n  '4\\n'\n  '6\\n'\n  'Duration to be verified based on the System provided by the customer. ** Training will be '\n  'customized based on customer requirements.\\n'\n  'Training Course Overview 2024\\n'\n  'Page – 11\\n'\n  'Custom-Training\\n'\n  'Campus Tour We offer detailed tours of our advanced manufacturing facilities.\\n'\n  'Basics of Injection Molding provides the basic knowledge required to install a mold in the '\n  'injection molding machine as well as the knowledge required for preparation and startup.\\n'\n  'Hot Runner Fundamentals covers the pros and cons of the different distribution concepts '\n  '(hot-runner vs. cold-runner) and how they affect the efficiency of the system. It also goes '\n  'into hot runner details includ- ing gating methods, manifold pitch layouts, actuation options, '\n  'design customizations, etc.\\n'\n  'Basic of Polymers mediates basic knowledge about the polymer, the microscopical structure, the '\n  'additives and fillers used in the industry. We focus on the microscopic structure of the '\n  'polymer in order to understand the macro- scopic behavior\\n'\n  'Hot Runner Maintenance Training-H /-C provides the necessary knowledge and skills to maintain '\n  'and service HUSKY hot runner systems. This is a hands-on training and requires you to wear your '\n  'own safety shoes. Addi- tional PPE will be provided as required when the training is done at a '\n  'Husky facility.\\n'\n  'Air-Cirquit Requirements The required quality of the compressed air used is often '\n  'underestimated. Poorly prepared compressed air can have a significant impact on the quality and '\n  'production process of the part to be manufactured in the long term. In this training, the '\n  'requirements for the compressed air are explained.\\n'\n  'Gating Styles In this course, HUSKY’s thermal and mechanical gating solutions will be discussed '\n  'and the impact to plastic part quality will be reviewed. In addition, the setup and operation '\n  'of the HUSKY hot runner nozzles will be explained.',\n  0.5476922]]\n"
     ]
    }
   ],
   "source": [
    "import mlflow.deployments\n",
    "deploy_client = mlflow.deployments.get_deploy_client(\"databricks\")\n",
    "\n",
    "vector_search_endpoint_name = \"vector-search-demo-endpoint_115\"\n",
    "index_fullname = \"main.default.mfg_vs_index\"\n",
    "\n",
    "question = \"What is training course about?\"\n",
    "\n",
    "results = vsc.get_index(vector_search_endpoint_name,index_fullname).similarity_search(\n",
    "  query_text=question,\n",
    "  columns=[\"url\",\"content\"],\n",
    "  num_results=1)\n",
    "docs = results.get('result', {}).get('data_array', [])\n",
    "pprint(docs)"
   ]
  },
  {
   "cell_type": "code",
   "execution_count": 0,
   "metadata": {
    "application/vnd.databricks.v1+cell": {
     "cellMetadata": {
      "byteLimit": 2048000,
      "rowLimit": 10000
     },
     "inputWidgets": {},
     "nuid": "0acbc0ef-2e55-4f55-97c0-0b1edd89de37",
     "showTitle": false,
     "title": ""
    }
   },
   "outputs": [
    {
     "output_type": "stream",
     "name": "stdout",
     "output_type": "stream",
     "text": [
      "Based on the title you provided, the training course appears to be about learning how to use Databricks SQL to analyze data and create visualizations. The course likely covers topics such as querying data using SQL, creating tables and views, and building dashboards to visualize data. However, without more information about the specific contents of the course, this is just an educated guess.\n"
     ]
    }
   ],
   "source": [
    "from langchain.prompts import PromptTemplate\n",
    "from langchain_community.chat_models import ChatDatabricks\n",
    "from langchain.schema.output_parser import StrOutputParser\n",
    "\n",
    "prompt = PromptTemplate(\n",
    "  input_variables = [\"question\"],\n",
    "  template = \"You are an assistant. Give a short answer to this question: {question}\"\n",
    ")\n",
    "chat_model = ChatDatabricks(endpoint=\"databricks-dbrx-instruct\", max_tokens = 500)\n",
    "\n",
    "chain = (\n",
    "  prompt\n",
    "  | chat_model\n",
    "  | StrOutputParser()\n",
    ")\n",
    "print(chain.invoke({\"question\": \"What is the training course about?\"}))"
   ]
  },
  {
   "cell_type": "code",
   "execution_count": 0,
   "metadata": {
    "application/vnd.databricks.v1+cell": {
     "cellMetadata": {
      "byteLimit": 2048000,
      "rowLimit": 10000
     },
     "inputWidgets": {},
     "nuid": "f57ca876-1a9a-4573-b61c-1a20d09ad2b6",
     "showTitle": false,
     "title": ""
    }
   },
   "outputs": [],
   "source": [
    "prompt_with_history_str = \"\"\"\n",
    "Your are a Injection Molding Technical Documents chatbot. Please answer Injection Molding questions only. If you don't know or not related to Injection Molding, don't answer.\n",
    "\n",
    "Here is a history between you and a human: {chat_history}\n",
    "\n",
    "Now, please answer this question: {question}\n",
    "\"\"\"\n",
    "\n",
    "prompt_with_history = PromptTemplate(\n",
    "  input_variables = [\"chat_history\", \"question\"],\n",
    "  template = prompt_with_history_str\n",
    ")"
   ]
  },
  {
   "cell_type": "code",
   "execution_count": 0,
   "metadata": {
    "application/vnd.databricks.v1+cell": {
     "cellMetadata": {
      "byteLimit": 2048000,
      "rowLimit": 10000
     },
     "inputWidgets": {},
     "nuid": "fe3b1b6c-1097-4bff-982e-b97b076cb43b",
     "showTitle": false,
     "title": ""
    }
   },
   "outputs": [
    {
     "output_type": "stream",
     "name": "stdout",
     "output_type": "stream",
     "text": [
      "I'm sorry for any confusion, but the question about handling throughputs up to 1,500 g/s seems to be unrelated to injection molding or hot runner systems. Hot runner systems are a type of tooling solution used in injection molding to improve part quality and volume while reducing part cost. They do not directly handle throughputs in the sense of g/s. If you have any questions related to injection molding or hot runner systems, I'd be happy to help!\n"
     ]
    }
   ],
   "source": [
    "from langchain.schema.runnable import RunnableLambda\n",
    "from operator import itemgetter\n",
    "\n",
    "#The question is the last entry of the history\n",
    "def extract_question(input):\n",
    "    return input[-1][\"content\"]\n",
    "\n",
    "#The history is everything before the last question\n",
    "def extract_history(input):\n",
    "    return input[:-1]\n",
    "\n",
    "chain_with_history = (\n",
    "    {\n",
    "        \"question\": itemgetter(\"messages\") | RunnableLambda(extract_question),\n",
    "        \"chat_history\": itemgetter(\"messages\") | RunnableLambda(extract_history),\n",
    "    }\n",
    "    | prompt_with_history\n",
    "    | chat_model\n",
    "    | StrOutputParser()\n",
    ")\n",
    "\n",
    "print(chain_with_history.invoke({\n",
    "    \"messages\": [\n",
    "        {\"role\": \"user\", \"content\": \"What is Hot runner?\"}, \n",
    "        {\"role\": \"assistant\", \"content\": \"They are a complete tooling solution, helping you achieve the highest levels of part quality and part volume at the lowest part cost. And they are available in both hot tip and valve gate configurations, optimized for your specific application.\"}, \n",
    "        {\"role\": \"user\", \"content\": \"Does it handle throughputs up to 1,500 g/s?\"}\n",
    "    ]\n",
    "}))"
   ]
  },
  {
   "cell_type": "code",
   "execution_count": 0,
   "metadata": {
    "application/vnd.databricks.v1+cell": {
     "cellMetadata": {
      "byteLimit": 2048000,
      "rowLimit": 10000
     },
     "inputWidgets": {},
     "nuid": "251e4f58-1ecc-489a-b814-ff6c4a2c1be3",
     "showTitle": false,
     "title": ""
    }
   },
   "outputs": [
    {
     "output_type": "stream",
     "name": "stdout",
     "output_type": "stream",
     "text": [
      "Yes.\n\nKnowing the follow-up history, the question is asking about a specific aspect of the injection molding systems in Husky company, which is the throughput capacity. The assistant has previously provided information about Husky's hot runner systems, and the user is now asking if these systems can handle a certain amount of throughput. Therefore, the question is related to injection molding systems in Husky company.\n"
     ]
    }
   ],
   "source": [
    "chat_model = ChatDatabricks(endpoint=\"databricks-dbrx-instruct\", max_tokens = 200)\n",
    "\n",
    "is_question_about_databricks_str = \"\"\"\n",
    "You are classifying documents to know if this question is related with Injection molding systems in Husky company. Also answer no if the last part is inappropriate. \n",
    "\n",
    "Here are some examples:\n",
    "\n",
    "Question: Knowing this followup history: What is Hot runner?, classify this question: Do you have more details?\n",
    "Expected Response: Yes\n",
    "\n",
    "Question: Knowing this followup history: What is Hot runner?, classify this question: Write me a song.\n",
    "Expected Response: No\n",
    "\n",
    "Only answer with \"yes\" or \"no\". \n",
    "\n",
    "Knowing this followup history: {chat_history}, classify this question: {question}\n",
    "\"\"\"\n",
    "\n",
    "is_question_about_databricks_prompt = PromptTemplate(\n",
    "  input_variables= [\"chat_history\", \"question\"],\n",
    "  template = is_question_about_databricks_str\n",
    ")\n",
    "\n",
    "is_about_databricks_chain = (\n",
    "    {\n",
    "        \"question\": itemgetter(\"messages\") | RunnableLambda(extract_question),\n",
    "        \"chat_history\": itemgetter(\"messages\") | RunnableLambda(extract_history),\n",
    "    }\n",
    "    | is_question_about_databricks_prompt\n",
    "    | chat_model\n",
    "    | StrOutputParser()\n",
    ")\n",
    "\n",
    "#Returns \"Yes\" as this is about Databricks: \n",
    "print(is_about_databricks_chain.invoke({\n",
    "    \"messages\": [\n",
    "        {\"role\": \"user\", \"content\": \"What is Hot runner?\"}, \n",
    "        {\"role\": \"assistant\", \"content\": \"They are a complete tooling solution, helping you achieve the highest levels of part quality and part volume at the lowest part cost. And they are available in both hot tip and valve gate configurations, optimized for your specific application.\"}, \n",
    "        {\"role\": \"user\", \"content\": \"Does it handle throughputs up to 1,500 g/s?\"}\n",
    "    ]\n",
    "}))"
   ]
  },
  {
   "cell_type": "code",
   "execution_count": 0,
   "metadata": {
    "application/vnd.databricks.v1+cell": {
     "cellMetadata": {
      "byteLimit": 2048000,
      "rowLimit": 10000
     },
     "inputWidgets": {},
     "nuid": "d0466e7d-6cbe-476f-b692-7c6161ba7607",
     "showTitle": false,
     "title": ""
    }
   },
   "outputs": [
    {
     "output_type": "stream",
     "name": "stdout",
     "output_type": "stream",
     "text": [
      "No.\n"
     ]
    }
   ],
   "source": [
    "#Return \"no\" as this isn't about Databricks\n",
    "print(is_about_databricks_chain.invoke({\n",
    "    \"messages\": [\n",
    "        {\"role\": \"user\", \"content\": \"What is the meaning of life?\"}\n",
    "    ]\n",
    "}))"
   ]
  },
  {
   "cell_type": "code",
   "execution_count": 0,
   "metadata": {
    "application/vnd.databricks.v1+cell": {
     "cellMetadata": {
      "byteLimit": 2048000,
      "rowLimit": 10000
     },
     "inputWidgets": {},
     "nuid": "aa840b28-b712-461e-97f6-0b937b2cd438",
     "showTitle": false,
     "title": ""
    }
   },
   "outputs": [],
   "source": [
    "host = \"https://\" + spark.conf.get(\"spark.databricks.workspaceUrl\")\n",
    "index_fullname = \"main.default.mfg_vs_index\"\n",
    "vector_search_endpoint_name = \"vector-search-demo-endpoint_115\"\n",
    "\n",
    "#Let's make sure the secret is properly setup and can access our vector search index. Check the quick-start demo for more guidance\n",
    "test_demo_permissions(host, secret_scope=\"dbdemos\", secret_key=\"rag_sp_token\", vs_endpoint_name=\"vector-search-demo-endpoint_115\", index_name=\"main.default.mfg_vs_index\", embedding_endpoint_name=\"databricks-bge-large-en\", managed_embeddings = False)"
   ]
  },
  {
   "cell_type": "code",
   "execution_count": 0,
   "metadata": {
    "application/vnd.databricks.v1+cell": {
     "cellMetadata": {
      "byteLimit": 2048000,
      "rowLimit": 10000
     },
     "inputWidgets": {},
     "nuid": "2bd48bc2-65ed-4d4c-98a8-7013c498e0c6",
     "showTitle": false,
     "title": ""
    }
   },
   "outputs": [
    {
     "output_type": "stream",
     "name": "stdout",
     "output_type": "stream",
     "text": [
      "[NOTICE] Using a Personal Authentication Token (PAT). Recommended for development only. For improved performance, please use Service Principal based authentication. To disable this message, pass disable_notice=True to VectorSearchClient().\n"
     ]
    },
    {
     "output_type": "stream",
     "name": "stderr",
     "output_type": "stream",
     "text": [
      "WARNING:langchain_community.vectorstores.databricks_vector_search:embedding model is not used in delta-sync index with Databricks-managed embeddings.\n"
     ]
    },
    {
     "output_type": "stream",
     "name": "stdout",
     "output_type": "stream",
     "text": [
      "[Document(page_content='Most of the training can be delivered in sevaral languages like English, German, French. Other language requirements must be verified prior to training scheduling.\\nTraining Course Overview 2024\\nPage – 3\\nFoundations & Fundamentals of Injection Molding Cells\\nRecommended Audience: Machine Operators, Mold-Maintenance- & Assembly-Teams\\nNumber of Participants: Minimum number of participants: 3 Maximum number of participants: 5\\nCourse Content This training course provides fundamental knowledge about Injection Molding Cells and their operation.\\nEuipment-Interface identification and process flow understanding\\nMold startup & Injection-Molding-Process • Fundamentals of Polymers • Hot-Runner fundamentals • Air supply configuration and maintenance • Mold Controller setting overview\\nTraining objectives By the end of this training the participants:\\nCan install and startup the mold • Understand Hot-Runner Technology • Will have basic knowledge of polymers • Are aware of the requirements for air treatment\\nNote: Participants require to wear their own safety shoes. Additional PPE will be provided as required when the training is done at a Husky facility.\\nCourse Duration: 4 days\\nInclusive Services:\\nRefreshments provided • Lunch • Training Certificate\\nPage – 4\\nTraining Course Overview 2024\\nFoundations & Fundamentals of Hot-Runners\\nRecommended Audience: Machine Operators, Mold Makers, Engineers\\nNumber of Participants: Minimum number of participants: 5 Maximum number of participants: 8\\nCourse Content This training course provides fundamental knowledge about the use of Hot-Runners and their operation.', metadata={'url': 'dbfs:/Volumes/main/default/technical_docs/training-course-overview-2024.pdf', 'id': 518.0}), Document(page_content='5\\n2\\n3\\n5\\n4\\n6\\nDuration to be verified based on the System provided by the customer. ** Training will be customized based on customer requirements.\\nTraining Course Overview 2024\\nPage – 11\\nCustom-Training\\nCampus Tour We offer detailed tours of our advanced manufacturing facilities.\\nBasics of Injection Molding provides the basic knowledge required to install a mold in the injection molding machine as well as the knowledge required for preparation and startup.\\nHot Runner Fundamentals covers the pros and cons of the different distribution concepts (hot-runner vs. cold-runner) and how they affect the efficiency of the system. It also goes into hot runner details includ- ing gating methods, manifold pitch layouts, actuation options, design customizations, etc.\\nBasic of Polymers mediates basic knowledge about the polymer, the microscopical structure, the additives and fillers used in the industry. We focus on the microscopic structure of the polymer in order to understand the macro- scopic behavior\\nHot Runner Maintenance Training-H /-C provides the necessary knowledge and skills to maintain and service HUSKY hot runner systems. This is a hands-on training and requires you to wear your own safety shoes. Addi- tional PPE will be provided as required when the training is done at a Husky facility.\\nAir-Cirquit Requirements The required quality of the compressed air used is often underestimated. Poorly prepared compressed air can have a significant impact on the quality and production process of the part to be manufactured in the long term. In this training, the requirements for the compressed air are explained.\\nGating Styles In this course, HUSKY’s thermal and mechanical gating solutions will be discussed and the impact to plastic part quality will be reviewed. In addition, the setup and operation of the HUSKY hot runner nozzles will be explained.', metadata={'url': 'dbfs:/Volumes/main/default/technical_docs/training-course-overview-2024.pdf', 'id': 530.0}), Document(page_content='Can differentiate the Nozzle Technologies and understand part-gating techniques\\nAre aware of the requirements for air treatment • Understand the capabilities of HUSKY, to support on custom solutions for Hot-Runners\\nCourse Duration: 2 days\\nInclusive Services:\\nRefreshments provided • Lunch • Training Certificate\\nPage – 6\\nTraining Course Overview 2024\\nMaintenance-Training\\nRecommended Audience: Maintenance Technicians, Machine Operators\\nNumber of Participants: Minimum number of participants: 5 Maximum number of participants: 8\\nBackground / Knowledge: Basic Mechanical and Electrical knowledge.\\nCourse Content This training course explaines how to service and maintain HUSKY Hot-Runner Systems. The course contains practical and theoretical sessions including:\\nComponent identification and function explanation • How to perform maintenance of a Hot-Runner • Introduction to preventive maintenance • Set-up and troubleshoot an Altanium Controller Training objectives By the end of this training the participants will be able to:\\nIdentify the function of the Hot-Runner and it’s components • Assemble, disassemble and maintain a HUSKY Hot-Runner-System • Visually inspect the components • Inspect the System by checking against engineering drawings and specifications • Set-up and troubleshoot an Altanium Controller Note: Participants require to wear their own safety shoes. Additional PPE will be provided as re- quired when the training is done at a Husky facility.', metadata={'url': 'dbfs:/Volumes/main/default/technical_docs/training-course-overview-2024.pdf', 'id': 522.0}), Document(page_content='In addition, the setup and operation of the HUSKY hot runner nozzles will be explained.\\nBalancing The objective of this training is to learn about the factors that influence the balancing of a hot runner manifold system, the methods of balancing testing, and the influence of the temperature control device.\\nPage – 12\\nTraining Course Overview 2024\\nCustom-Training (continuation)\\nFEA Analysis will provide insight into the required thermal, structural and fluidic simulations that HUSKY uses to engineer a high performance hot runner.\\nColor Change In this training course, we would like to address the topic of color change and provide assis- tance in order to carry out an optimized color change with the correct design of the system and the installed components.\\nDesigning a Hot-Runner provides you with insights into our engineering procedures to design a high performance, reliable, yet easy to maintain hot runner system.\\nDesigning with HUSKY provides an overview of the Drawing-Package and 3D-Data provided by HUSKY, the possibil- ities for Data-Exchange and how this data can be further processed.\\nSingle Cavity Systems This seminar covers the topic of single nozzles and highlights the differences between ETO (Engineering to Order) and CTO (Configure to Order).\\nStack-Systems Part of this training session is to:\\nDiscuss reasons for the existence of stack molds • Show the existing variants, their structure and operation. • Present nozzle technologies available as stack molds. • Discuss the connection to the IMM.\\nUltraSync-Systems During this training, the impact of an individually closed valve gate system to the plate-ac- tivated valve gate will be discussed and the qualitative differences on the part will be high- lighted. The various factors influencing the process, such as the cavitv pressure curves, the reaction time of the valve stems, their closing speed and closing profile, will also be com- pared.', metadata={'url': 'dbfs:/Volumes/main/default/technical_docs/training-course-overview-2024.pdf', 'id': 532.0})]\n"
     ]
    }
   ],
   "source": [
    "from databricks.vector_search.client import VectorSearchClient\n",
    "from langchain_community.vectorstores import DatabricksVectorSearch\n",
    "from langchain_community.embeddings import DatabricksEmbeddings\n",
    "from langchain.chains import RetrievalQA\n",
    "\n",
    "os.environ['DATABRICKS_TOKEN'] = dbutils.secrets.get(\"dbdemos\", \"rag_sp_token\")\n",
    "\n",
    "embedding_model = DatabricksEmbeddings(endpoint=\"databricks-bge-large-en\")\n",
    "\n",
    "def get_retriever(persist_dir: str = None):\n",
    "    os.environ[\"DATABRICKS_HOST\"] = host\n",
    "    #Get the vector search index\n",
    "    vsc = VectorSearchClient(workspace_url=host, personal_access_token=os.environ[\"DATABRICKS_TOKEN\"])\n",
    "    vs_index = vsc.get_index(\n",
    "        endpoint_name=\"vector-search-demo-endpoint_115\",\n",
    "        index_name=\"main.default.mfg_vs_index\"\n",
    "    )\n",
    "\n",
    "    # Create the retriever\n",
    "    vectorstore = DatabricksVectorSearch(\n",
    "        vs_index, text_column=\"content\", embedding=embedding_model, columns=[\"url\"]\n",
    "    )\n",
    "    return vectorstore.as_retriever(search_kwargs={'k': 4})\n",
    "\n",
    "retriever = get_retriever()\n",
    "\n",
    "retrieve_document_chain = (\n",
    "    itemgetter(\"messages\") \n",
    "    | RunnableLambda(extract_question)\n",
    "    | retriever\n",
    ")\n",
    "print(retrieve_document_chain.invoke({\"messages\": [{\"role\": \"user\", \"content\": \"What is the training course about?\"}]}))"
   ]
  },
  {
   "cell_type": "code",
   "execution_count": 0,
   "metadata": {
    "application/vnd.databricks.v1+cell": {
     "cellMetadata": {
      "byteLimit": 2048000,
      "rowLimit": 10000
     },
     "inputWidgets": {},
     "nuid": "e8799789-4fbb-4cef-b579-a799e0e56b7d",
     "showTitle": false,
     "title": ""
    }
   },
   "outputs": [
    {
     "output_type": "stream",
     "name": "stdout",
     "output_type": "stream",
     "text": [
      "Test retriever query without history: What is Hot runner?\nTest retriever question, summarized with history: \"Hot runner systems with throughputs up to 1,500 g/s\"\n"
     ]
    }
   ],
   "source": [
    "from langchain.schema.runnable import RunnableBranch\n",
    "\n",
    "generate_query_to_retrieve_context_template = \"\"\"\n",
    "Based on the chat history below, we want you to generate a query for an external data source to retrieve relevant documents so that we can better answer the question. The query should be in natural language. The external data source uses similarity search to search for relevant documents in a vector space. So the query should be similar to the relevant documents semantically. Answer with only the query. Do not add explanation.\n",
    "\n",
    "Chat history: {chat_history}\n",
    "\n",
    "Question: {question}\n",
    "\"\"\"\n",
    "\n",
    "generate_query_to_retrieve_context_prompt = PromptTemplate(\n",
    "  input_variables= [\"chat_history\", \"question\"],\n",
    "  template = generate_query_to_retrieve_context_template\n",
    ")\n",
    "\n",
    "generate_query_to_retrieve_context_chain = (\n",
    "    {\n",
    "        \"question\": itemgetter(\"messages\") | RunnableLambda(extract_question),\n",
    "        \"chat_history\": itemgetter(\"messages\") | RunnableLambda(extract_history),\n",
    "    }\n",
    "    | RunnableBranch(  #Augment query only when there is a chat history\n",
    "      (lambda x: x[\"chat_history\"], generate_query_to_retrieve_context_prompt | chat_model | StrOutputParser()),\n",
    "      (lambda x: not x[\"chat_history\"], RunnableLambda(lambda x: x[\"question\"])),\n",
    "      RunnableLambda(lambda x: x[\"question\"])\n",
    "    )\n",
    ")\n",
    "\n",
    "#Let's try it\n",
    "output = generate_query_to_retrieve_context_chain.invoke({\n",
    "    \"messages\": [\n",
    "        {\"role\": \"user\", \"content\": \"What is Hot runner?\"}\n",
    "    ]\n",
    "})\n",
    "print(f\"Test retriever query without history: {output}\")\n",
    "\n",
    "output = generate_query_to_retrieve_context_chain.invoke({\n",
    "    \"messages\": [\n",
    "        {\"role\": \"user\", \"content\": \"What is Hot runner?\"}, \n",
    "        {\"role\": \"assistant\", \"content\": \"They are a complete tooling solution, helping you achieve the highest levels of part quality and part volume at the lowest part cost. And they are available in both hot tip and valve gate configurations, optimized for your specific application.\"}, \n",
    "        {\"role\": \"user\", \"content\": \"Does it handle throughputs up to 1,500 g/s?\"}\n",
    "    ]\n",
    "})\n",
    "print(f\"Test retriever question, summarized with history: {output}\")"
   ]
  },
  {
   "cell_type": "code",
   "execution_count": 0,
   "metadata": {
    "application/vnd.databricks.v1+cell": {
     "cellMetadata": {
      "byteLimit": 2048000,
      "rowLimit": 10000
     },
     "inputWidgets": {},
     "nuid": "917e1f97-c2c8-466d-8250-52c8d1a3c37b",
     "showTitle": false,
     "title": ""
    }
   },
   "outputs": [],
   "source": [
    "from langchain.schema.runnable import RunnableBranch, RunnableParallel, RunnablePassthrough\n",
    "\n",
    "question_with_history_and_context_str = \"\"\"\n",
    "You are a trustful assistant for Service Engineers learning baout injection molding systems manufactured by Husky company. You are answering injection molding questions related to Husky Company. If you do not know the answer to a question, you truthfully say you do not know. Read the discussion to get the context of the previous conversation. In the chat discussion, you are referred to as \"system\". The user is referred to as \"user\".\n",
    "\n",
    "Discussion: {chat_history}\n",
    "\n",
    "Here's some context which might or might not help you answer: {context}\n",
    "\n",
    "Answer straight, do not repeat the question, do not start with something like: the answer to the question, do not add \"AI\" in front of your answer, do not say: here is the answer, do not mention the context or the question.\n",
    "\n",
    "Based on this history and context, answer this question: {question}\n",
    "\"\"\"\n",
    "\n",
    "question_with_history_and_context_prompt = PromptTemplate(\n",
    "  input_variables= [\"chat_history\", \"context\", \"question\"],\n",
    "  template = question_with_history_and_context_str\n",
    ")\n",
    "\n",
    "def format_context(docs):\n",
    "    return \"\\n\\n\".join([d.page_content for d in docs])\n",
    "\n",
    "def extract_source_urls(docs):\n",
    "    return [d.metadata[\"url\"] for d in docs]\n",
    "\n",
    "relevant_question_chain = (\n",
    "  RunnablePassthrough() |\n",
    "  {\n",
    "    \"relevant_docs\": generate_query_to_retrieve_context_prompt | chat_model | StrOutputParser() | retriever,\n",
    "    \"chat_history\": itemgetter(\"chat_history\"), \n",
    "    \"question\": itemgetter(\"question\")\n",
    "  }\n",
    "  |\n",
    "  {\n",
    "    \"context\": itemgetter(\"relevant_docs\") | RunnableLambda(format_context),\n",
    "    \"sources\": itemgetter(\"relevant_docs\") | RunnableLambda(extract_source_urls),\n",
    "    \"chat_history\": itemgetter(\"chat_history\"), \n",
    "    \"question\": itemgetter(\"question\")\n",
    "  }\n",
    "  |\n",
    "  {\n",
    "    \"prompt\": question_with_history_and_context_prompt,\n",
    "    \"sources\": itemgetter(\"sources\")\n",
    "  }\n",
    "  |\n",
    "  {\n",
    "    \"result\": itemgetter(\"prompt\") | chat_model | StrOutputParser(),\n",
    "    \"sources\": itemgetter(\"sources\")\n",
    "  }\n",
    ")\n",
    "\n",
    "irrelevant_question_chain = (\n",
    "  RunnableLambda(lambda x: {\"result\": 'I cannot answer questions that are not about Husky products.', \"sources\": []})\n",
    ")\n",
    "\n",
    "branch_node = RunnableBranch(\n",
    "  (lambda x: \"yes\" in x[\"question_is_relevant\"].lower(), relevant_question_chain),\n",
    "  (lambda x: \"no\" in x[\"question_is_relevant\"].lower(), irrelevant_question_chain),\n",
    "  irrelevant_question_chain\n",
    ")\n",
    "\n",
    "full_chain = (\n",
    "  {\n",
    "    \"question_is_relevant\": is_about_databricks_chain,\n",
    "    \"question\": itemgetter(\"messages\") | RunnableLambda(extract_question),\n",
    "    \"chat_history\": itemgetter(\"messages\") | RunnableLambda(extract_history),    \n",
    "  }\n",
    "  | branch_node\n",
    ")"
   ]
  },
  {
   "cell_type": "code",
   "execution_count": 0,
   "metadata": {
    "application/vnd.databricks.v1+cell": {
     "cellMetadata": {
      "byteLimit": 2048000,
      "rowLimit": 10000
     },
     "inputWidgets": {},
     "nuid": "e89e93aa-33e7-4b76-90fc-5ca7888cc1a5",
     "showTitle": false,
     "title": ""
    }
   },
   "outputs": [],
   "source": [
    "def display_chat(chat_history, response):\n",
    "  def user_message_html(message):\n",
    "    return f\"\"\"\n",
    "      <div style=\"width: 90%; border-radius: 10px; background-color: #c2efff; padding: 10px; box-shadow: 2px 2px 2px #F7f7f7; margin-bottom: 10px; font-size: 14px;\">\n",
    "        {message}\n",
    "      </div>\"\"\"\n",
    "  def assistant_message_html(message):\n",
    "    return f\"\"\"\n",
    "      <div style=\"width: 90%; border-radius: 10px; background-color: #e3f6fc; padding: 10px; box-shadow: 2px 2px 2px #F7f7f7; margin-bottom: 10px; margin-left: 40px; font-size: 14px\">\n",
    "        <img style=\"float: left; width:40px; margin: -10px 5px 0px -10px\" src=\"https://github.com/databricks-demos/dbdemos-resources/blob/main/images/product/chatbot-rag/robot.png?raw=true\"/>\n",
    "        {message}\n",
    "      </div>\"\"\"\n",
    "  chat_history_html = \"\".join([user_message_html(m[\"content\"]) if m[\"role\"] == \"user\" else assistant_message_html(m[\"content\"]) for m in chat_history])\n",
    "  answer = response[\"result\"].replace('\\n', '<br/>')\n",
    "  sources_html = (\"<br/><br/><br/><strong>Sources:</strong><br/> <ul>\" + '\\n'.join([f\"\"\"<li><a href=\"{s}\">{s}</a></li>\"\"\" for s in response[\"sources\"]]) + \"</ul>\") if response[\"sources\"] else \"\"\n",
    "  response_html = f\"\"\"{answer}{sources_html}\"\"\"\n",
    "\n",
    "  displayHTML(chat_history_html + assistant_message_html(response_html))"
   ]
  },
  {
   "cell_type": "code",
   "execution_count": 0,
   "metadata": {
    "application/vnd.databricks.v1+cell": {
     "cellMetadata": {
      "byteLimit": 2048000,
      "rowLimit": 10000
     },
     "inputWidgets": {},
     "nuid": "bcf8605c-f2f7-42a6-b937-e6bfe4563aa1",
     "showTitle": false,
     "title": ""
    }
   },
   "outputs": [
    {
     "output_type": "stream",
     "name": "stdout",
     "output_type": "stream",
     "text": [
      "Testing with a non relevant question...\n"
     ]
    },
    {
     "output_type": "display_data",
     "data": {
      "text/html": [
       "\n",
       "      <div style=\"width: 90%; border-radius: 10px; background-color: #c2efff; padding: 10px; box-shadow: 2px 2px 2px #F7f7f7; margin-bottom: 10px; font-size: 14px;\">\n",
       "        What is Hot runner?\n",
       "      </div>\n",
       "      <div style=\"width: 90%; border-radius: 10px; background-color: #e3f6fc; padding: 10px; box-shadow: 2px 2px 2px #F7f7f7; margin-bottom: 10px; margin-left: 40px; font-size: 14px\">\n",
       "        <img style=\"float: left; width:40px; margin: -10px 5px 0px -10px\" src=\"https://github.com/databricks-demos/dbdemos-resources/blob/main/images/product/chatbot-rag/robot.png?raw=true\"/>\n",
       "        They are a complete tooling solution, helping you achieve the highest levels of part quality and part volume at the lowest part cost. And they are available in both hot tip and valve gate configurations, optimized for your specific application.\n",
       "      </div>\n",
       "      <div style=\"width: 90%; border-radius: 10px; background-color: #c2efff; padding: 10px; box-shadow: 2px 2px 2px #F7f7f7; margin-bottom: 10px; font-size: 14px;\">\n",
       "        Why is the sky blue?\n",
       "      </div>\n",
       "      <div style=\"width: 90%; border-radius: 10px; background-color: #e3f6fc; padding: 10px; box-shadow: 2px 2px 2px #F7f7f7; margin-bottom: 10px; margin-left: 40px; font-size: 14px\">\n",
       "        <img style=\"float: left; width:40px; margin: -10px 5px 0px -10px\" src=\"https://github.com/databricks-demos/dbdemos-resources/blob/main/images/product/chatbot-rag/robot.png?raw=true\"/>\n",
       "        I cannot answer questions that are not about Husky products.\n",
       "      </div>"
      ]
     },
     "metadata": {},
     "output_type": "display_data"
    }
   ],
   "source": [
    "import json\n",
    "non_relevant_dialog = {\n",
    "    \"messages\": [\n",
    "        {\"role\": \"user\", \"content\": \"What is Hot runner?\"}, \n",
    "        {\"role\": \"assistant\", \"content\": \"They are a complete tooling solution, helping you achieve the highest levels of part quality and part volume at the lowest part cost. And they are available in both hot tip and valve gate configurations, optimized for your specific application.\"}, \n",
    "        {\"role\": \"user\", \"content\": \"Why is the sky blue?\"}\n",
    "    ]\n",
    "}\n",
    "print(f'Testing with a non relevant question...')\n",
    "response = full_chain.invoke(non_relevant_dialog)\n",
    "display_chat(non_relevant_dialog[\"messages\"], response)\n"
   ]
  },
  {
   "cell_type": "code",
   "execution_count": 0,
   "metadata": {
    "application/vnd.databricks.v1+cell": {
     "cellMetadata": {
      "byteLimit": 2048000,
      "rowLimit": 10000
     },
     "inputWidgets": {},
     "nuid": "6a8b92c1-da14-4428-8ee7-4046c8239b79",
     "showTitle": false,
     "title": ""
    }
   },
   "outputs": [
    {
     "output_type": "stream",
     "name": "stdout",
     "output_type": "stream",
     "text": [
      "Testing with relevant history and question...\n"
     ]
    },
    {
     "output_type": "display_data",
     "data": {
      "text/html": [
       "\n",
       "      <div style=\"width: 90%; border-radius: 10px; background-color: #c2efff; padding: 10px; box-shadow: 2px 2px 2px #F7f7f7; margin-bottom: 10px; font-size: 14px;\">\n",
       "        What is Hot runner?\n",
       "      </div>\n",
       "      <div style=\"width: 90%; border-radius: 10px; background-color: #e3f6fc; padding: 10px; box-shadow: 2px 2px 2px #F7f7f7; margin-bottom: 10px; margin-left: 40px; font-size: 14px\">\n",
       "        <img style=\"float: left; width:40px; margin: -10px 5px 0px -10px\" src=\"https://github.com/databricks-demos/dbdemos-resources/blob/main/images/product/chatbot-rag/robot.png?raw=true\"/>\n",
       "        They are a complete tooling solution, helping you achieve the highest levels of part quality and part volume at the lowest part cost. And they are available in both hot tip and valve gate configurations, optimized for your specific application.\n",
       "      </div>\n",
       "      <div style=\"width: 90%; border-radius: 10px; background-color: #c2efff; padding: 10px; box-shadow: 2px 2px 2px #F7f7f7; margin-bottom: 10px; font-size: 14px;\">\n",
       "        Does it handle throughputs up to 1,500 g/s?\n",
       "      </div>\n",
       "      <div style=\"width: 90%; border-radius: 10px; background-color: #e3f6fc; padding: 10px; box-shadow: 2px 2px 2px #F7f7f7; margin-bottom: 10px; margin-left: 40px; font-size: 14px\">\n",
       "        <img style=\"float: left; width:40px; margin: -10px 5px 0px -10px\" src=\"https://github.com/databricks-demos/dbdemos-resources/blob/main/images/product/chatbot-rag/robot.png?raw=true\"/>\n",
       "        No, it does not handle throughputs up to 1,500 g/s. The maximum throughput for the Ultra 1000 Valve Gate is 450 g/s for low to medium viscosity materials, and 200 g/s for high viscosity materials.<br/><br/><br/><strong>Sources:</strong><br/> <ul><li><a href=\"dbfs:/Volumes/main/default/technical_docs/hotrunnerproducthandbook_19_4-external.pdf\">dbfs:/Volumes/main/default/technical_docs/hotrunnerproducthandbook_19_4-external.pdf</a></li>\n",
       "<li><a href=\"dbfs:/Volumes/main/default/technical_docs/hotrunnerproducthandbook_19_4-external.pdf\">dbfs:/Volumes/main/default/technical_docs/hotrunnerproducthandbook_19_4-external.pdf</a></li>\n",
       "<li><a href=\"dbfs:/Volumes/main/default/technical_docs/hotrunnerproducthandbook_19_4-external.pdf\">dbfs:/Volumes/main/default/technical_docs/hotrunnerproducthandbook_19_4-external.pdf</a></li>\n",
       "<li><a href=\"dbfs:/Volumes/main/default/technical_docs/hotrunnerproducthandbook_19_4-external.pdf\">dbfs:/Volumes/main/default/technical_docs/hotrunnerproducthandbook_19_4-external.pdf</a></li></ul>\n",
       "      </div>"
      ]
     },
     "metadata": {},
     "output_type": "display_data"
    }
   ],
   "source": [
    "dialog = {\n",
    "    \"messages\": [\n",
    "        {\"role\": \"user\", \"content\": \"What is Hot runner?\"}, \n",
    "        {\"role\": \"assistant\", \"content\": \"They are a complete tooling solution, helping you achieve the highest levels of part quality and part volume at the lowest part cost. And they are available in both hot tip and valve gate configurations, optimized for your specific application.\"}, \n",
    "        {\"role\": \"user\", \"content\": \"Does it handle throughputs up to 1,500 g/s?\"}\n",
    "    ]\n",
    "}\n",
    "print(f'Testing with relevant history and question...')\n",
    "response = full_chain.invoke(dialog)\n",
    "display_chat(dialog[\"messages\"], response)"
   ]
  },
  {
   "cell_type": "code",
   "execution_count": 0,
   "metadata": {
    "application/vnd.databricks.v1+cell": {
     "cellMetadata": {
      "byteLimit": 2048000,
      "rowLimit": 10000
     },
     "inputWidgets": {},
     "nuid": "f55c4b0a-ca63-43a1-92e7-4a08d123d9a8",
     "showTitle": false,
     "title": ""
    }
   },
   "outputs": [
    {
     "output_type": "stream",
     "name": "stderr",
     "output_type": "stream",
     "text": [
      "2024/05/02 02:51:17 INFO mlflow.types.utils: MLflow 2.9.0 introduces model signature with new data types for lists and dictionaries. For input such as Dict[str, Union[scalars, List, Dict]], we infer dictionary values types as `List -> Array` and `Dict -> Object`. \n2024/05/02 02:51:17 INFO mlflow.types.utils: MLflow 2.9.0 introduces model signature with new data types for lists and dictionaries. For input such as Dict[str, Union[scalars, List, Dict]], we infer dictionary values types as `List -> Array` and `Dict -> Object`. \n2024/05/02 02:51:18 WARNING mlflow.utils.requirements_utils: Detected one or more mismatches between the model's dependencies and the current Python environment:\n - langchainhub (current: uninstalled, required: langchainhub)\nTo fix the mismatches, call `mlflow.pyfunc.get_model_dependencies(model_uri)` to fetch the model's environment and install dependencies using the resulting environment file.\n/databricks/python/lib/python3.10/site-packages/_distutils_hack/__init__.py:33: UserWarning: Setuptools is replacing distutils.\n  warnings.warn(\"Setuptools is replacing distutils.\")\n"
     ]
    },
    {
     "output_type": "display_data",
     "data": {
      "application/vnd.jupyter.widget-view+json": {
       "model_id": "fee507fb2a4f4303b212ceb22491e72b",
       "version_major": 2,
       "version_minor": 0
      },
      "text/plain": [
       "Uploading artifacts:   0%|          | 0/58 [00:00<?, ?it/s]"
      ]
     },
     "metadata": {},
     "output_type": "display_data"
    },
    {
     "output_type": "stream",
     "name": "stderr",
     "output_type": "stream",
     "text": [
      "2024/05/02 02:51:18 INFO mlflow.store.artifact.cloud_artifact_repo: The progress bar can be disabled by setting the environment variable MLFLOW_ENABLE_ARTIFACTS_PROGRESS_BAR to false\nSuccessfully registered model 'main.rag_chatbot.dbdemos_advanced_chatbot_model'.\n"
     ]
    },
    {
     "output_type": "display_data",
     "data": {
      "application/vnd.jupyter.widget-view+json": {
       "model_id": "2ef31f735003417c93612417bf24952a",
       "version_major": 2,
       "version_minor": 0
      },
      "text/plain": [
       "Uploading artifacts:   0%|          | 0/58 [00:00<?, ?it/s]"
      ]
     },
     "metadata": {},
     "output_type": "display_data"
    },
    {
     "output_type": "stream",
     "name": "stderr",
     "output_type": "stream",
     "text": [
      "2024/05/02 02:51:22 INFO mlflow.store.artifact.cloud_artifact_repo: The progress bar can be disabled by setting the environment variable MLFLOW_ENABLE_ARTIFACTS_PROGRESS_BAR to false\nCreated version '1' of model 'main.rag_chatbot.dbdemos_advanced_chatbot_model'.\n"
     ]
    }
   ],
   "source": [
    "import cloudpickle\n",
    "import langchain\n",
    "from mlflow.models import infer_signature\n",
    "\n",
    "mlflow.set_registry_uri(\"databricks-uc\")\n",
    "model_name = f\"{catalog}.default.dbdemos_advanced_chatbot_model\"\n",
    "\n",
    "with mlflow.start_run(run_name=\"dbdemos_chatbot_rag\") as run:\n",
    "    #Get our model signature from input/output\n",
    "    output = full_chain.invoke(dialog)\n",
    "    signature = infer_signature(dialog, output)\n",
    "\n",
    "    model_info = mlflow.langchain.log_model(\n",
    "        full_chain,\n",
    "        loader_fn=get_retriever,  # Load the retriever with DATABRICKS_TOKEN env as secret (for authentication).\n",
    "        artifact_path=\"chain\",\n",
    "        registered_model_name=model_name,\n",
    "        pip_requirements=[\n",
    "            \"mlflow==\" + mlflow.__version__,\n",
    "            \"langchain==\" + langchain.__version__,\n",
    "            \"databricks-vectorsearch\",\n",
    "            \"pydantic==2.5.2 --no-binary pydantic\",\n",
    "            \"cloudpickle==\"+ cloudpickle.__version__,\n",
    "            \"langchainhub\",\n",
    "            \"langchain_community\"],\n",
    "        input_example=dialog,\n",
    "        signature=signature,\n",
    "        example_no_conversion=True,\n",
    "    )\n"
   ]
  },
  {
   "cell_type": "code",
   "execution_count": 0,
   "metadata": {
    "application/vnd.databricks.v1+cell": {
     "cellMetadata": {
      "byteLimit": 2048000,
      "rowLimit": 10000
     },
     "inputWidgets": {},
     "nuid": "dee90586-c2bf-42ff-bc11-0fead897574e",
     "showTitle": false,
     "title": ""
    }
   },
   "outputs": [
    {
     "output_type": "stream",
     "name": "stdout",
     "output_type": "stream",
     "text": [
      "[NOTICE] Using a Personal Authentication Token (PAT). Recommended for development only. For improved performance, please use Service Principal based authentication. To disable this message, pass disable_notice=True to VectorSearchClient().\n"
     ]
    },
    {
     "output_type": "stream",
     "name": "stderr",
     "output_type": "stream",
     "text": [
      "WARNING:langchain_community.vectorstores.databricks_vector_search:embedding model is not used in delta-sync index with Databricks-managed embeddings.\n"
     ]
    },
    {
     "output_type": "stream",
     "name": "stdout",
     "output_type": "stream",
     "text": [
      "Response: The training course about Hot Runner Systems offered by Husky covers various aspects of the technology, design, maintenance, and optimization. The courses are designed for different audiences, including Design Engineers, Maintenance Technicians, and Machine Operators.\n\nThe \"Hot Runner Fundamentals\" course provides an understanding of the technology, benefits, and different gating methods. It also covers nozzle technology, part-gating techniques, air supply configuration, and maintenance.\n\nThe \"Designing Hot-runner Systems with HUSKY\" course is for Design Engineers and provides insights into the layouts, rules, and calculations required to engineer a well-performing Hot-Runner System. It includes HUSKY’s FEA capabilities, CAD and drawing package, and an introduction to HUSKY’s design process and project handling.\n\nThe \"Maintenance-Training\" course explains how to service and maintain HUSKY Hot-Runner Systems. It includes practical and theoretical sessions on component identification, function explanation, maintenance of a Hot-Runner, introduction to preventive maintenance,\nSources: ['dbfs:/Volumes/main/default/technical_docs/training-course-overview-2024.pdf', 'dbfs:/Volumes/main/default/technical_docs/training-course-overview-2024.pdf', 'dbfs:/Volumes/main/default/technical_docs/training-course-overview-2024.pdf', 'dbfs:/Volumes/main/default/technical_docs/training-course-overview-2024.pdf']\n"
     ]
    }
   ],
   "source": [
    "from langchain.chains import RetrievalQA\n",
    "from langchain.prompts import PromptTemplate\n",
    "from langchain_community.chat_models import ChatDatabricks\n",
    "from operator import itemgetter\n",
    "\n",
    "TEMPLATE = \"\"\"You are a trustful assistant for Service Engineers learning about injection molding systems manufactured by Husky company. You are answering injection molding questions related to Husky Company. If you do not know the answer to a question, you truthfully say you do not know. Read the discussion to get the context of the previous conversation. In the chat discussion, you are referred to as \"system\". The user is referred to as \"user\".\n",
    "\n",
    "Use the following pieces of context to answer the question at the end:\n",
    "\n",
    "{context}\n",
    "\n",
    "Question: {question}\n",
    "\n",
    "Answer:\n",
    "\n",
    "\"\"\"\n",
    "\n",
    "prompt = PromptTemplate(template=TEMPLATE, input_variables=[\"context\", \"question\"])\n",
    "\n",
    "def format_context(docs):\n",
    "    return \"\\n\\n\".join([d.page_content for d in docs])\n",
    "\n",
    "def extract_source_urls(docs):\n",
    "    return [d.metadata[\"url\"] for d in docs]\n",
    "\n",
    "chain = RetrievalQA.from_chain_type(\n",
    "    llm=chat_model,\n",
    "    chain_type=\"stuff\",\n",
    "    retriever=get_retriever(),\n",
    "    chain_type_kwargs={\n",
    "        \"prompt\": prompt\n",
    "    },\n",
    "    return_source_documents=True\n",
    ")\n",
    "\n",
    "question = {\n",
    "    \"query\": \"Write a summary of training course about the hot runner systems and give sources\",\n",
    "    \"answer\": \"The training course about Hot Runner Systems offered by Husky covers various aspects of the technology, design, maintenance, and optimization. The courses are designed for different audiences including Mold Design Engineers, Maintenance Technicians, and Machine Operators.\\n\\nThe 'Hot Runner Fundamentals' course provides an understanding of the technology, benefits, nozzle technologies, part-gating techniques, and air supply configuration and maintenance. It also introduces Husky's customer support capabilities.\\n\\nThe 'Designing Hot-runner Systems with HUSKY' course is for Mold Design Engineers and covers HUSKY's FEA capabilities, CAD and drawing package, introduction to HUSKY's design process and project handling, nozzle technologies, air supply configuration and maintenance, and Husky's customer support capabilities.\\n\\nThe 'Maintenance-Training' course is for Maintenance Technicians and Machine Operators and explains how to service and maintain HUSKY Hot-Runner Systems.\\n\\n\\nSources:\\n['dbfs:/Volumes/main/default/technical_docs/training-course-overview-2024.pdf']\"\n",
    "}\n",
    "\n",
    "result = chain(question)\n",
    "answer = result[\"result\"]\n",
    "sources = extract_source_urls(result[\"source_documents\"])\n",
    "\n",
    "formatted_response = f\"Response: {answer}\\nSources: {sources}\"\n",
    "print(formatted_response)"
   ]
  },
  {
   "cell_type": "code",
   "execution_count": 0,
   "metadata": {
    "application/vnd.databricks.v1+cell": {
     "cellMetadata": {
      "byteLimit": 2048000,
      "rowLimit": 10000
     },
     "inputWidgets": {},
     "nuid": "7cb89d55-ccce-4b04-a550-d6bb1c9ecb53",
     "showTitle": false,
     "title": ""
    }
   },
   "outputs": [],
   "source": [
    "from mlflow.models import infer_signature\n",
    "import mlflow\n",
    "import langchain\n",
    "\n",
    "mlflow.set_registry_uri(\"databricks-uc\")\n",
    "model_name = f\"{catalog}.default.advanced_working_mfg\"\n",
    "\n",
    "with mlflow.start_run(run_name=\"advanced_working_mfg_runV2\") as run:\n",
    "    signature = infer_signature(question, formatted_response)\n",
    "    model_info = mlflow.langchain.log_model(\n",
    "        chain,\n",
    "        loader_fn=get_retriever,\n",
    "        artifact_path=\"chain\",\n",
    "        registered_model_name=model_name,\n",
    "        pip_requirements=[\n",
    "            \"mlflow\",\n",
    "            \"langchain\",\n",
    "            \"langchain_community\",\n",
    "            \"databricks-vectorsearch\",\n",
    "            \"pydantic==2.5.2 --no-binary pydantic\",\n",
    "            \"cloudpickle\",\n",
    "            \"langchainhub\"\n",
    "        ],\n",
    "        input_example=question,\n",
    "        signature=signature\n",
    "    )"
   ]
  },
  {
   "cell_type": "code",
   "execution_count": 0,
   "metadata": {
    "application/vnd.databricks.v1+cell": {
     "cellMetadata": {
      "byteLimit": 2048000,
      "rowLimit": 10000
     },
     "inputWidgets": {},
     "nuid": "7ee270e0-da07-4ecd-862e-2e44cab8da3f",
     "showTitle": false,
     "title": ""
    }
   },
   "outputs": [
    {
     "output_type": "stream",
     "name": "stdout",
     "output_type": "stream",
     "text": [
      "{'answer': '\\n'\n           'The training course offered by Husky focuses on the design, maintenance, and operation '\n           'of hot runner systems. The course covers various topics, including:\\n'\n           '\\n'\n           '1. Hot Runner Fundamentals: This module covers the basics of hot runner technology, '\n           'its benefits, and the different distribution concepts.\\n'\n           '2. Gating Styles: This module discusses the various gating styles, their impact on '\n           'part quality, and the setup and operation of Husky hot runner nozzles.\\n'\n           '3. Air-Cirquit Requirements: This module explains the importance of compressed air '\n           'quality and its impact on the production process.\\n'\n           '4. Hot-Runner Maintenance Training-H /-C: This hands-on training module covers the '\n           'maintenance and service of Husky hot runner systems.\\n'\n           '5. Designing Hot-Runner Systems with Husky: This module provides insights into the '\n           'layouts, rules, and calculations required to engineer a well-performing hot runner '\n           'system.\\n'\n           '6. Maintenance-Training: This module explains how to service and maintain Husky hot '\n           'runner systems, including component identification, maintenance, and troubleshooting.\\n'\n           '7. Balancing: This module focuses on the factors that influence the balancing of a hot '\n           'runner manifold system, balancing testing methods, and the influence of temperature '\n           'control devices.\\n'\n           '8. FEA Analysis: This module provides insight into the required thermal, structural, '\n           'and fluidic simulations used by Husky to engineer high-performance hot runners.\\n'\n           '9. Color Change: This module addresses the topic of color change and provides '\n           'assistance in designing an optimized color change system.\\n'\n           \"10. Designing a Hot-Runner: This module provides insights into Husky's engineering \"\n           'procedures for designing high-performance, reliable, and maintainable hot runner '\n           'systems.\\n'\n           \"11. Designing with Husky: This module provides an overview of Husky's drawing package \"\n           'and 3D data, as well as possibilities for data exchange and further processing.\\n'\n           '12. Single Cavity Systems: This seminar covers the topic of single nozzles and '\n           'highlights the differences between ETO (Engineering to Order) and CTO (Configure to '\n           'Order).\\n'\n           '13. Stack-Systems: This training session discusses the reasons for stack molds, their '\n           'structure and operation, nozzle technologies available as stack molds, and connection '\n           'to the IMM.\\n'\n           '14. UltraSync-Systems: This training session focuses on the impact of an individually '\n           'closed valve gate system on part quality and compares various factors influencing the '\n           'process.\\n'\n           '\\n'\n           'The training course is customized based on customer requirements, and the duration '\n           'will be verified based on the system provided by the customer.',\n 'query': 'Write a summary of training course about the hot runner systems and give sources',\n 'sources': \"['technical_docs/training-course-overview-2024.pdf']\"}\n"
     ]
    }
   ],
   "source": [
    "pprint(input_example)"
   ]
  },
  {
   "cell_type": "code",
   "execution_count": 0,
   "metadata": {
    "application/vnd.databricks.v1+cell": {
     "cellMetadata": {},
     "inputWidgets": {},
     "nuid": "0afd95a9-bb51-4c7a-851d-4368781dd593",
     "showTitle": false,
     "title": ""
    }
   },
   "outputs": [],
   "source": []
  }
 ],
 "metadata": {
  "application/vnd.databricks.v1+notebook": {
   "dashboards": [],
   "language": "python",
   "notebookMetadata": {
    "mostRecentlyExecutedCommandWithImplicitDF": {
     "commandId": 510912402232177,
     "dataframes": [
      "_sqldf"
     ]
    },
    "pythonIndentUnit": 4
   },
   "notebookName": "DBRX_RAG 3.0 - Clone",
   "widgets": {}
  }
 },
 "nbformat": 4,
 "nbformat_minor": 0
}
